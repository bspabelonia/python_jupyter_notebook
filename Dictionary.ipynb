{
 "cells": [
  {
   "cell_type": "code",
   "execution_count": 1,
   "id": "4ff34a23",
   "metadata": {},
   "outputs": [],
   "source": [
    "# Dictionary:\n",
    "    \n",
    "# -> Dictionary is a collection dataype of Python\n",
    "# -> Dictionary is a combination of Key and Value pair\n",
    "# -> Dictionary is a semi-mutable\n",
    "# -> Dictionary is represented by { }\n",
    "# -> Dictionary Syntax ----  {key:value}"
   ]
  },
  {
   "cell_type": "markdown",
   "id": "f0779e9a",
   "metadata": {},
   "source": [
    "# How to create Dictionary"
   ]
  },
  {
   "cell_type": "code",
   "execution_count": 41,
   "id": "8f755f47",
   "metadata": {},
   "outputs": [
    {
     "name": "stdout",
     "output_type": "stream",
     "text": [
      "{1: 'Apple', 2: 'Orange', 'A': 'B', 'C': 'D', 'Mobile': 'iPhone', 'Num1': 1, 'Num2': 2}\n",
      "<class 'dict'>\n"
     ]
    }
   ],
   "source": [
    "d1 = {1:\"Apple\", 2:\"Orange\",'A':'B','C':'D',\"Mobile\":\"iPhone\",\"Num1\":1,\"Num2\":2}\n",
    "print(d1)\n",
    "print(type(d1))"
   ]
  },
  {
   "cell_type": "markdown",
   "id": "a43aff54",
   "metadata": {},
   "source": [
    "# Access Itmes from Dictionary"
   ]
  },
  {
   "cell_type": "code",
   "execution_count": 42,
   "id": "69ed3246",
   "metadata": {},
   "outputs": [
    {
     "name": "stdout",
     "output_type": "stream",
     "text": [
      "Current Dictionary :  {1: 'Apple', 2: 'Orange', 'A': 'B', 'C': 'D', 'Mobile': 'iPhone', 'Num1': 1, 'Num2': 2}\n",
      "Print Apple from Dictionary\n",
      "Apple\n",
      "Print iPhone from Dictionary\n",
      "iPhone\n"
     ]
    }
   ],
   "source": [
    "print(\"Current Dictionary : \",d1)\n",
    "\n",
    "print(\"Print Apple from Dictionary\")\n",
    "print(d1[1])\n",
    "\n",
    "print(\"Print iPhone from Dictionary\")\n",
    "print(d1[\"Mobile\"])"
   ]
  },
  {
   "cell_type": "markdown",
   "id": "ec3c6217",
   "metadata": {},
   "source": [
    "# Access the value using get()"
   ]
  },
  {
   "cell_type": "code",
   "execution_count": 43,
   "id": "dda5728b",
   "metadata": {},
   "outputs": [
    {
     "name": "stdout",
     "output_type": "stream",
     "text": [
      "Current Dictionary :  {1: 'Apple', 2: 'Orange', 'A': 'B', 'C': 'D', 'Mobile': 'iPhone', 'Num1': 1, 'Num2': 2}\n",
      "iPhone\n"
     ]
    }
   ],
   "source": [
    "print(\"Current Dictionary : \",d1)\n",
    "\n",
    "x = d1.get(\"Mobile\")\n",
    "print(x)"
   ]
  },
  {
   "cell_type": "markdown",
   "id": "3c008737",
   "metadata": {},
   "source": [
    "# Access the Key from Dictionary"
   ]
  },
  {
   "cell_type": "code",
   "execution_count": 45,
   "id": "9ef434f8",
   "metadata": {},
   "outputs": [
    {
     "name": "stdout",
     "output_type": "stream",
     "text": [
      "Current Dictionary :  {1: 'Apple', 2: 'Orange', 'A': 'B', 'C': 'D', 'Mobile': 'iPhone', 'Num1': 1, 'Num2': 2}\n",
      "Keys List :  [1, 2, 'A', 'C', 'Mobile', 'Num1', 'Num2']\n",
      "Values List :  ['Apple', 'Orange', 'B', 'D', 'iPhone', 1, 2]\n"
     ]
    }
   ],
   "source": [
    "print(\"Current Dictionary : \",d1)\n",
    "k = d1.keys()\n",
    "v = d1.values()\n",
    "print(\"Keys List : \",list(k))\n",
    "print(\"Values List : \",list(v))"
   ]
  },
  {
   "cell_type": "markdown",
   "id": "819c8df9",
   "metadata": {},
   "source": [
    "# Change Items"
   ]
  },
  {
   "cell_type": "code",
   "execution_count": 46,
   "id": "835f743a",
   "metadata": {},
   "outputs": [
    {
     "name": "stdout",
     "output_type": "stream",
     "text": [
      "Current Dictionary :  {1: 'Apple', 2: 'Orange', 'A': 'B', 'C': 'D', 'Mobile': 'iPhone', 'Num1': 1, 'Num2': 2}\n",
      "Updated Dictionary :  {1: 'Apple', 2: 'Mango', 'A': 'B', 'C': 'D', 'Mobile': 'iPhone', 'Num1': 1, 'Num2': 2}\n"
     ]
    }
   ],
   "source": [
    "print(\"Current Dictionary : \",d1)\n",
    "\n",
    "d1[2] = \"Mango\"\n",
    "print(\"Updated Dictionary : \",d1)"
   ]
  },
  {
   "cell_type": "markdown",
   "id": "d59303bb",
   "metadata": {},
   "source": [
    "# Change item by using update()"
   ]
  },
  {
   "cell_type": "code",
   "execution_count": 47,
   "id": "75f5fb28",
   "metadata": {},
   "outputs": [
    {
     "name": "stdout",
     "output_type": "stream",
     "text": [
      "Current Dictionary :  {1: 'Apple', 2: 'Mango', 'A': 'B', 'C': 'D', 'Mobile': 'iPhone', 'Num1': 1, 'Num2': 2}\n",
      "Updated Dictionary :  {1: 'Apple', 2: 'Mango', 'A': 'B', 'C': 'D', 'Mobile': 'Samsung', 'Num1': 1, 'Num2': 2}\n"
     ]
    }
   ],
   "source": [
    "print(\"Current Dictionary : \",d1)\n",
    "\n",
    "d1.update({\"Mobile\":\"Samsung\"})\n",
    "print(\"Updated Dictionary : \",d1)"
   ]
  },
  {
   "cell_type": "markdown",
   "id": "44158dea",
   "metadata": {},
   "source": [
    "# Add new Value"
   ]
  },
  {
   "cell_type": "code",
   "execution_count": 48,
   "id": "f3b496f0",
   "metadata": {},
   "outputs": [
    {
     "name": "stdout",
     "output_type": "stream",
     "text": [
      "Current Dictionary :  {1: 'Apple', 2: 'Mango', 'A': 'B', 'C': 'D', 'Mobile': 'Samsung', 'Num1': 1, 'Num2': 2}\n",
      "Updated Dictionary :  {1: 'Apple', 2: 'Mango', 'A': 'B', 'C': 'D', 'Mobile': 'Samsung', 'Num1': 1, 'Num2': 2, 'Color': 'Red'}\n"
     ]
    }
   ],
   "source": [
    "print(\"Current Dictionary : \",d1)\n",
    "\n",
    "d1[\"Color\"] = \"Red\"\n",
    "print(\"Updated Dictionary : \",d1)\n"
   ]
  },
  {
   "cell_type": "code",
   "execution_count": 49,
   "id": "f597b591",
   "metadata": {},
   "outputs": [
    {
     "name": "stdout",
     "output_type": "stream",
     "text": [
      "Current Dictionary :  {1: 'Apple', 2: 'Mango', 'A': 'B', 'C': 'D', 'Mobile': 'Samsung', 'Num1': 1, 'Num2': 2, 'Color': 'Red'}\n",
      "Updated Dictionary :  {1: 'Apple', 2: 'Mango', 'A': 'B', 'C': 'D', 'Mobile': 'Samsung', 'Num1': 1, 'Num2': 2, 'Color': 'Blue'}\n"
     ]
    }
   ],
   "source": [
    "print(\"Current Dictionary : \",d1)\n",
    "d1[\"Color\"] = \"Blue\"\n",
    "print(\"Updated Dictionary : \",d1)\n"
   ]
  },
  {
   "cell_type": "markdown",
   "id": "0f17cd40",
   "metadata": {},
   "source": [
    "# Remove Items"
   ]
  },
  {
   "cell_type": "code",
   "execution_count": 50,
   "id": "8c276f74",
   "metadata": {},
   "outputs": [
    {
     "name": "stdout",
     "output_type": "stream",
     "text": [
      "Current Dictionary :  {1: 'Apple', 2: 'Mango', 'A': 'B', 'C': 'D', 'Mobile': 'Samsung', 'Num1': 1, 'Num2': 2, 'Color': 'Blue'}\n"
     ]
    }
   ],
   "source": [
    "print(\"Current Dictionary : \",d1)"
   ]
  },
  {
   "cell_type": "code",
   "execution_count": 51,
   "id": "c5429167",
   "metadata": {},
   "outputs": [
    {
     "name": "stdout",
     "output_type": "stream",
     "text": [
      "Updated Dictionary :  {1: 'Apple', 2: 'Mango', 'A': 'B', 'C': 'D', 'Num1': 1, 'Num2': 2, 'Color': 'Blue'}\n"
     ]
    }
   ],
   "source": [
    "d1.pop(\"Mobile\")\n",
    "print(\"Updated Dictionary : \",d1)"
   ]
  },
  {
   "cell_type": "code",
   "execution_count": 52,
   "id": "05b7a9a7",
   "metadata": {},
   "outputs": [
    {
     "name": "stdout",
     "output_type": "stream",
     "text": [
      "Current Dictionary :  {1: 'Apple', 2: 'Mango', 'A': 'B', 'C': 'D', 'Num1': 1, 'Num2': 2, 'Color': 'Blue'}\n",
      "Updated Dictionary :  {1: 'Apple', 2: 'Mango', 'A': 'B', 'C': 'D', 'Num1': 1, 'Num2': 2}\n"
     ]
    }
   ],
   "source": [
    "print(\"Current Dictionary : \",d1)\n",
    "d1.popitem()\n",
    "print(\"Updated Dictionary : \",d1)"
   ]
  },
  {
   "cell_type": "code",
   "execution_count": 54,
   "id": "a1be729f",
   "metadata": {},
   "outputs": [
    {
     "name": "stdout",
     "output_type": "stream",
     "text": [
      "Current Dictionary :  {1: 'Apple', 2: 'Mango', 'A': 'B', 'C': 'D', 'Num1': 1, 'Num2': 2}\n",
      "Updated Dictionary :  {1: 'Apple', 2: 'Mango', 'A': 'B', 'C': 'D', 'Num2': 2}\n"
     ]
    }
   ],
   "source": [
    "print(\"Current Dictionary : \",d1)\n",
    "del d1['Num1']\n",
    "print(\"Updated Dictionary : \",d1)"
   ]
  },
  {
   "cell_type": "code",
   "execution_count": 55,
   "id": "a01a205d",
   "metadata": {},
   "outputs": [
    {
     "name": "stdout",
     "output_type": "stream",
     "text": [
      "Current Dictionary :  {1: 'Apple', 2: 'Mango', 'A': 'B', 'C': 'D', 'Num2': 2}\n",
      "Updated Dictionary :  {}\n"
     ]
    }
   ],
   "source": [
    "print(\"Current Dictionary : \",d1)\n",
    "d1.clear()\n",
    "print(\"Updated Dictionary : \",d1)"
   ]
  },
  {
   "cell_type": "markdown",
   "id": "e20bdfa6",
   "metadata": {},
   "source": [
    "# Dictionary using For Loop"
   ]
  },
  {
   "cell_type": "code",
   "execution_count": 56,
   "id": "886f8d02",
   "metadata": {},
   "outputs": [
    {
     "name": "stdout",
     "output_type": "stream",
     "text": [
      "{1: 'Apple', 2: 'Orange', 'A': 'B', 'C': 'D', 'Mobile': 'iPhone', 'Num1': 1, 'Num2': 2}\n"
     ]
    }
   ],
   "source": [
    "d1 = {1:\"Apple\", 2:\"Orange\",'A':'B','C':'D',\"Mobile\":\"iPhone\",\"Num1\":1,\"Num2\":2}\n",
    "print(d1)"
   ]
  },
  {
   "cell_type": "code",
   "execution_count": 60,
   "id": "99d95eac",
   "metadata": {},
   "outputs": [
    {
     "name": "stdout",
     "output_type": "stream",
     "text": [
      "Current Dictionary :  {1: 'Apple', 2: 'Orange', 'A': 'B', 'C': 'D', 'Mobile': 'iPhone', 'Num1': 1, 'Num2': 2}\n",
      "1 Apple\n",
      "2 Orange\n",
      "A B\n",
      "C D\n",
      "Mobile iPhone\n",
      "Num1 1\n",
      "Num2 2\n"
     ]
    }
   ],
   "source": [
    "print(\"Current Dictionary : \",d1)\n",
    "for x, y in d1.items():\n",
    "    print(x,y)"
   ]
  },
  {
   "cell_type": "code",
   "execution_count": 70,
   "id": "6f73e02d",
   "metadata": {},
   "outputs": [
    {
     "name": "stdout",
     "output_type": "stream",
     "text": [
      "1\n",
      "2\n",
      "A\n",
      "C\n",
      "Mobile\n",
      "Num1\n",
      "Num2\n"
     ]
    }
   ],
   "source": [
    "for x,y in d1.items():\n",
    "    print(x)"
   ]
  },
  {
   "cell_type": "code",
   "execution_count": 71,
   "id": "5d7a852d",
   "metadata": {},
   "outputs": [
    {
     "name": "stdout",
     "output_type": "stream",
     "text": [
      "Apple\n",
      "Orange\n",
      "B\n",
      "D\n",
      "iPhone\n",
      "1\n",
      "2\n"
     ]
    }
   ],
   "source": [
    "for x,y in d1.items():\n",
    "    print(y)"
   ]
  },
  {
   "cell_type": "code",
   "execution_count": 75,
   "id": "9c8a8d84",
   "metadata": {},
   "outputs": [
    {
     "name": "stdout",
     "output_type": "stream",
     "text": [
      "1\n",
      "2\n",
      "A\n",
      "C\n",
      "Mobile\n",
      "Num1\n",
      "Num2\n"
     ]
    }
   ],
   "source": [
    "for k in d1.keys():\n",
    "    print(k)\n"
   ]
  },
  {
   "cell_type": "code",
   "execution_count": 74,
   "id": "f0688e80",
   "metadata": {},
   "outputs": [
    {
     "name": "stdout",
     "output_type": "stream",
     "text": [
      "Apple\n",
      "Orange\n",
      "B\n",
      "D\n",
      "iPhone\n",
      "1\n",
      "2\n"
     ]
    }
   ],
   "source": [
    "for v in d1.values():\n",
    "    print(v)"
   ]
  },
  {
   "cell_type": "markdown",
   "id": "d4bb3113",
   "metadata": {},
   "source": [
    "# Storing Multiple Values on a Single Key"
   ]
  },
  {
   "cell_type": "code",
   "execution_count": 110,
   "id": "bf25c830",
   "metadata": {},
   "outputs": [
    {
     "name": "stdout",
     "output_type": "stream",
     "text": [
      "{'Fruits': ['Apple', 'Mango', 'Orange'], 'Mobiles': ['Samsung', 'iPhone', 'Xiaomi']}\n",
      "['Apple']\n",
      "['Samsung', 'iPhone']\n"
     ]
    }
   ],
   "source": [
    "d2 = {\"Fruits\":[\"Apple\",\"Mango\",\"Orange\"],\n",
    "     \"Mobiles\":[\"Samsung\",\"iPhone\", \"Xiaomi\"]}\n",
    "print(d2)\n",
    "\n",
    "print(d2[\"Fruits\"][0:1])\n",
    "print(d2[\"Mobiles\"][0:2])"
   ]
  },
  {
   "cell_type": "markdown",
   "id": "b48ba644",
   "metadata": {},
   "source": [
    "# Exercise"
   ]
  },
  {
   "cell_type": "code",
   "execution_count": 112,
   "id": "a97f1a3d",
   "metadata": {},
   "outputs": [],
   "source": [
    "# -> Dictionary name should be eCommerce\n",
    "# -> Category - Mobile, Laptops, Men(Footwares, Clothes, Watches), Women(Footwares, Clothes, Jewerly) with their Prices"
   ]
  },
  {
   "cell_type": "code",
   "execution_count": 133,
   "id": "a31c2f95",
   "metadata": {},
   "outputs": [
    {
     "name": "stdout",
     "output_type": "stream",
     "text": [
      "{'Mobile': {'Samsung': 40000, 'iPhone': 58000, 'Xiaomi': 24000}, 'Men': {'Footwares': ['Shoes', 'Slippers', 'Crocs'], 'Clothes': ('T-Shirts', 'Shirts'), 'Watches': ['Watch1', 'Watch2', 'Watch3']}, 'Women': {'Footwares': ['Shoes', 'Slippers', 'Crocs'], 'Clothes': ('T-Shirts', 'Shirts'), 'Jewerly': ['J1', 'J2', 'J3', [70000, 80000, 90000]]}, 'Laptop': ['HP', 'Dell', 'Acer']}\n"
     ]
    }
   ],
   "source": [
    "eCommerce = {\n",
    "    \"Mobile\" :{\"Samsung\":40000,\"iPhone\":58000,\"Xiaomi\":24000},\n",
    "    \"Men\":{\n",
    "        \"Footwares\":[\"Shoes\",\"Slippers\",\"Crocs\"],\n",
    "        \"Clothes\" :(\"T-Shirts\",\"Shirts\"),\n",
    "        \"Watches\"  :[\"Watch1\",\"Watch2\",\"Watch3\"]        \n",
    "    },\n",
    "    \"Women\":{\n",
    "        \"Footwares\":[\"Shoes\",\"Slippers\",\"Crocs\"],\n",
    "        \"Clothes\" :(\"T-Shirts\",\"Shirts\"),\n",
    "        \"Jewerly\"  :[\"J1\",\"J2\",\"J3\",[70000,80000,90000]]\n",
    "    },\n",
    "    \"Laptop\" :[\"HP\",\"Dell\",\"Acer\"],\n",
    "}\n",
    "print(eCommerce)"
   ]
  },
  {
   "cell_type": "code",
   "execution_count": 125,
   "id": "700c965b",
   "metadata": {},
   "outputs": [],
   "source": [
    "# eCommerce.update({\"Mobile\":{\"Samsung\":50000}})\n",
    "# print(eCommerce)\n",
    "\n",
    "# Mobile - All the Key and Values\n",
    "\n",
    "# Men - Footware (Slipper)\n",
    "# Men - Clothes (Shirts)\n",
    "# Men - Watches (Watch2)\n",
    "\n",
    "# Women - Footware (Crocs)\n",
    "# Women - Clothes (T-Shirts)\n",
    "# Wome - Jewerly (J1), All Prices\n",
    "\n",
    "# Laptop -- Dell"
   ]
  },
  {
   "cell_type": "code",
   "execution_count": 188,
   "id": "563752d7",
   "metadata": {},
   "outputs": [
    {
     "name": "stdout",
     "output_type": "stream",
     "text": [
      "{'Samsung': 40000, 'iPhone': 58000, 'Xiaomi': 24000}\n",
      "Slippers\n",
      "Shirts\n",
      "Watch2\n",
      "Crocs\n",
      "T-Shirts\n",
      "J1 : [70000, 80000, 90000]\n",
      "Dell\n"
     ]
    }
   ],
   "source": [
    "print(eCommerce[\"Mobile\"])\n",
    "print(eCommerce[\"Men\"][\"Footwares\"][1])\n",
    "print(eCommerce[\"Men\"][\"Clothes\"][1])\n",
    "print(eCommerce[\"Men\"][\"Watches\"][1])\n",
    "print(eCommerce[\"Women\"][\"Footwares\"][2])\n",
    "print(eCommerce[\"Women\"][\"Clothes\"][0])\n",
    "print(eCommerce[\"Women\"][\"Jewerly\"][0],\":\",eCommerce[\"Women\"][\"Jewerly\"][3][0:3])\n",
    "print(eCommerce[\"Laptop\"][1])"
   ]
  },
  {
   "cell_type": "code",
   "execution_count": null,
   "id": "60377628",
   "metadata": {},
   "outputs": [],
   "source": []
  }
 ],
 "metadata": {
  "kernelspec": {
   "display_name": "Python 3 (ipykernel)",
   "language": "python",
   "name": "python3"
  },
  "language_info": {
   "codemirror_mode": {
    "name": "ipython",
    "version": 3
   },
   "file_extension": ".py",
   "mimetype": "text/x-python",
   "name": "python",
   "nbconvert_exporter": "python",
   "pygments_lexer": "ipython3",
   "version": "3.11.3"
  }
 },
 "nbformat": 4,
 "nbformat_minor": 5
}
