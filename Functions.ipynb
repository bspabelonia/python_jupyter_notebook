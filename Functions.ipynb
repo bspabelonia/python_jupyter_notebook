{
 "cells": [
  {
   "cell_type": "code",
   "execution_count": 4,
   "id": "d200c309",
   "metadata": {},
   "outputs": [],
   "source": [
    "# Two Types of Function:\n",
    "#     1.System Define Function (Python)\n",
    "#     2. User Define Function\n",
    "    \n",
    "# User Define Function Types:\n",
    "#     1.Function with no args\n",
    "#     2. Function with args\n",
    "#     3. Function with return type\n",
    "#     4. Function with no return type\n",
    "\n",
    "# Syntax to define a Function:\n",
    "    \n",
    "#     def functionname():\n",
    "#         body function"
   ]
  },
  {
   "cell_type": "markdown",
   "id": "f8d9ab98",
   "metadata": {},
   "source": [
    "# How to create a Function?"
   ]
  },
  {
   "cell_type": "code",
   "execution_count": 5,
   "id": "a98b6812",
   "metadata": {},
   "outputs": [],
   "source": [
    "def printHello():\n",
    "    print(\"Hello\")"
   ]
  },
  {
   "cell_type": "markdown",
   "id": "074cd058",
   "metadata": {},
   "source": [
    "# Calling a Function"
   ]
  },
  {
   "cell_type": "code",
   "execution_count": 9,
   "id": "9667da45",
   "metadata": {},
   "outputs": [
    {
     "name": "stdout",
     "output_type": "stream",
     "text": [
      "Hello\n"
     ]
    }
   ],
   "source": [
    "printHello()"
   ]
  },
  {
   "cell_type": "markdown",
   "id": "539b6ed4",
   "metadata": {},
   "source": [
    "# Function with Args"
   ]
  },
  {
   "cell_type": "code",
   "execution_count": 13,
   "id": "aec9443f",
   "metadata": {},
   "outputs": [
    {
     "name": "stdout",
     "output_type": "stream",
     "text": [
      "Ans :  30\n"
     ]
    }
   ],
   "source": [
    "def addition(a,b):\n",
    "    c = a+b\n",
    "    print(\"Ans : \",c)\n",
    "    \n",
    "addition(10,20)"
   ]
  },
  {
   "cell_type": "code",
   "execution_count": 14,
   "id": "cdd3b418",
   "metadata": {},
   "outputs": [
    {
     "name": "stdout",
     "output_type": "stream",
     "text": [
      "Value 1: 10\n",
      "Value 2: 20\n",
      "Ans :  30\n"
     ]
    }
   ],
   "source": [
    "def addition1(a,b):\n",
    "    c = a+b\n",
    "    print(\"Ans : \",c)\n",
    "    \n",
    "v1 = int(input(\"Value 1: \"))\n",
    "v2 = int(input(\"Value 2: \"))\n",
    "\n",
    "addition1(v1,v2)\n"
   ]
  },
  {
   "cell_type": "markdown",
   "id": "eadddf69",
   "metadata": {},
   "source": [
    "# Function with return type"
   ]
  },
  {
   "cell_type": "code",
   "execution_count": 17,
   "id": "101eacaf",
   "metadata": {},
   "outputs": [
    {
     "name": "stdout",
     "output_type": "stream",
     "text": [
      "Value 1: 10\n",
      "Value 2: 20\n",
      "30\n"
     ]
    }
   ],
   "source": [
    "def addition2(a,b):\n",
    "    c = a+b\n",
    "    return c\n",
    "    \n",
    "v1 = int(input(\"Value 1: \"))\n",
    "v2 = int(input(\"Value 2: \"))\n",
    "\n",
    "print(addition2(v1,v2))"
   ]
  },
  {
   "cell_type": "markdown",
   "id": "c2279578",
   "metadata": {},
   "source": [
    "# Calculator"
   ]
  },
  {
   "cell_type": "code",
   "execution_count": 41,
   "id": "c34dfa31",
   "metadata": {},
   "outputs": [
    {
     "name": "stdout",
     "output_type": "stream",
     "text": [
      "Value 1: 1\n",
      "Please input +, -, *, or /+\n",
      "Value 2: 1\n",
      "Ans :  2\n"
     ]
    }
   ],
   "source": [
    "def add(a,b):\n",
    "    c = a+b\n",
    "    print(\"Ans : \",c)\n",
    "    \n",
    "def sub(a,b):\n",
    "    c = a-b\n",
    "    print(\"Ans : \",c)\n",
    "    \n",
    "def mul(a,b):\n",
    "    c = a*b\n",
    "    print(\"Ans : \",c)\n",
    "    \n",
    "def div(a,b):\n",
    "    c = a/b\n",
    "    print(\"Ans : \",c)\n",
    "    \n",
    "v1 = int(input(\"Value 1: \"))\n",
    "f = input(\"Please input +, -, *, or /\")\n",
    "v2 = int(input(\"Value 2: \"))\n",
    "\n",
    "if(f==\"+\"):\n",
    "    add(v1,v2)\n",
    "elif(f==\"-\"):\n",
    "    sub(v1,v2)\n",
    "elif(f==\"*\"):\n",
    "    mul(v1,v2)\n",
    "elif(f==\"/\"):\n",
    "    if(v2==0):\n",
    "        print(\"You Can't Divide it from zero\")\n",
    "    else:\n",
    "        div(v1,v2)\n",
    "else:\n",
    "    print(\"Undefined\")\n"
   ]
  },
  {
   "cell_type": "markdown",
   "id": "9bfa100a",
   "metadata": {},
   "source": [
    "# Lambda Function"
   ]
  },
  {
   "cell_type": "code",
   "execution_count": 24,
   "id": "ea1d6320",
   "metadata": {},
   "outputs": [],
   "source": [
    "# Syntax : Lambda arguments : expression\n",
    "x =lambda a: a+10"
   ]
  },
  {
   "cell_type": "markdown",
   "id": "99f1ff42",
   "metadata": {},
   "source": [
    "# Calling Lambda Function"
   ]
  },
  {
   "cell_type": "code",
   "execution_count": 26,
   "id": "9113d97e",
   "metadata": {},
   "outputs": [
    {
     "name": "stdout",
     "output_type": "stream",
     "text": [
      "30\n"
     ]
    }
   ],
   "source": [
    "print(x(20))"
   ]
  },
  {
   "cell_type": "code",
   "execution_count": 27,
   "id": "c7d277f9",
   "metadata": {},
   "outputs": [
    {
     "name": "stdout",
     "output_type": "stream",
     "text": [
      "10\n"
     ]
    }
   ],
   "source": [
    "y = lambda a,b : a*b\n",
    "print(y(5,2))"
   ]
  }
 ],
 "metadata": {
  "kernelspec": {
   "display_name": "Python 3 (ipykernel)",
   "language": "python",
   "name": "python3"
  },
  "language_info": {
   "codemirror_mode": {
    "name": "ipython",
    "version": 3
   },
   "file_extension": ".py",
   "mimetype": "text/x-python",
   "name": "python",
   "nbconvert_exporter": "python",
   "pygments_lexer": "ipython3",
   "version": "3.11.3"
  }
 },
 "nbformat": 4,
 "nbformat_minor": 5
}
