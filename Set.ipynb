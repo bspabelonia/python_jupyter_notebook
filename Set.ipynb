{
 "cells": [
  {
   "cell_type": "code",
   "execution_count": 2,
   "id": "26d16be1",
   "metadata": {},
   "outputs": [],
   "source": [
    "# Set\n",
    "# -> Set is python data collection datatype\n",
    "# -> Set represent by curly bracket {}\n",
    "# -> Set is only having a unique item\n",
    "# -> Set not follows the sequence\n",
    "#->  Set is immutable"
   ]
  },
  {
   "cell_type": "markdown",
   "id": "b5458871",
   "metadata": {},
   "source": [
    "# How to create set?"
   ]
  },
  {
   "cell_type": "code",
   "execution_count": 3,
   "id": "6bcb0576",
   "metadata": {},
   "outputs": [
    {
     "name": "stdout",
     "output_type": "stream",
     "text": [
      "{1, 2, 3, 10.5, 11.5, 'Banana', 'Apple', 'Kiwi'}\n",
      "<class 'set'>\n"
     ]
    }
   ],
   "source": [
    "s1 = {\"Apple\",\"Banana\",\"Kiwi\",1,2,3,10.5,11.5}\n",
    "print(s1)\n",
    "print(type(s1))"
   ]
  },
  {
   "cell_type": "code",
   "execution_count": 6,
   "id": "719f3c4a",
   "metadata": {},
   "outputs": [
    {
     "name": "stdout",
     "output_type": "stream",
     "text": [
      "1\n",
      "2\n",
      "3\n",
      "10.5\n",
      "11.5\n",
      "Banana\n",
      "Apple\n",
      "Kiwi\n"
     ]
    }
   ],
   "source": [
    "for i in s1:\n",
    "    print(i)"
   ]
  },
  {
   "cell_type": "code",
   "execution_count": 8,
   "id": "107b0b74",
   "metadata": {},
   "outputs": [
    {
     "name": "stdout",
     "output_type": "stream",
     "text": [
      "True\n"
     ]
    }
   ],
   "source": [
    "print(\"Apple\" in s1)"
   ]
  }
 ],
 "metadata": {
  "kernelspec": {
   "display_name": "Python 3 (ipykernel)",
   "language": "python",
   "name": "python3"
  },
  "language_info": {
   "codemirror_mode": {
    "name": "ipython",
    "version": 3
   },
   "file_extension": ".py",
   "mimetype": "text/x-python",
   "name": "python",
   "nbconvert_exporter": "python",
   "pygments_lexer": "ipython3",
   "version": "3.11.3"
  }
 },
 "nbformat": 4,
 "nbformat_minor": 5
}
