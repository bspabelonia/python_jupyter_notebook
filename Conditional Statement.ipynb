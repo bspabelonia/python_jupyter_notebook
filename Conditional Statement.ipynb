{
 "cells": [
  {
   "cell_type": "markdown",
   "id": "e0d31fa3",
   "metadata": {},
   "source": [
    "Simple If"
   ]
  },
  {
   "cell_type": "code",
   "execution_count": 3,
   "id": "e8ef6855",
   "metadata": {},
   "outputs": [
    {
     "name": "stdout",
     "output_type": "stream",
     "text": [
      "Enter the value of A: 2\n",
      "Enter the value of B: 1\n",
      "A is greater than B\n"
     ]
    }
   ],
   "source": [
    "a = int(input(\"Enter the value of A: \"))\n",
    "b = int(input(\"Enter the value of B: \"))\n",
    "\n",
    "if(a>b):\n",
    "    print(\"A is greater than B\")"
   ]
  },
  {
   "cell_type": "markdown",
   "id": "23a04da1",
   "metadata": {},
   "source": [
    "# If_Else"
   ]
  },
  {
   "cell_type": "code",
   "execution_count": 4,
   "id": "ee45acdc",
   "metadata": {},
   "outputs": [
    {
     "name": "stdout",
     "output_type": "stream",
     "text": [
      "Enter the value of A: 1\n",
      "Enter the value of B: 2\n",
      "B is greater than A\n"
     ]
    }
   ],
   "source": [
    "a = int(input(\"Enter the value of A: \"))\n",
    "b = int(input(\"Enter the value of B: \"))\n",
    "\n",
    "if(a>b):\n",
    "    print(\"A is greater than B\")\n",
    "else:\n",
    "    print(\"B is greater than A\")"
   ]
  },
  {
   "cell_type": "markdown",
   "id": "ad7d7f78",
   "metadata": {},
   "source": [
    "# Odd and Even"
   ]
  },
  {
   "cell_type": "code",
   "execution_count": 6,
   "id": "1afc13bc",
   "metadata": {},
   "outputs": [
    {
     "name": "stdout",
     "output_type": "stream",
     "text": [
      "Value: 2\n",
      "2  : Even Number\n"
     ]
    }
   ],
   "source": [
    "value1 = int(input(\"Value: \"))\n",
    "if(value1%2==0):\n",
    "    print(value1,\" : Even Number\")\n",
    "else:\n",
    "    print(value1,\" : Odd Number\")"
   ]
  },
  {
   "cell_type": "markdown",
   "id": "1ffa7672",
   "metadata": {},
   "source": [
    "If_Else Ladder"
   ]
  },
  {
   "cell_type": "code",
   "execution_count": 7,
   "id": "c529611d",
   "metadata": {},
   "outputs": [
    {
     "name": "stdout",
     "output_type": "stream",
     "text": [
      "A: 5\n",
      "B: 3\n",
      "C: 2\n",
      "5  is greater than  3  and  2\n"
     ]
    }
   ],
   "source": [
    "a = int(input(\"A: \"))\n",
    "b = int(input(\"B: \"))\n",
    "c = int(input(\"C: \"))\n",
    "\n",
    "if(a>b and a>c):\n",
    "    print(a,\" is greater than \",b,\" and \",c)\n",
    "elif(b>a and b>c):\n",
    "    print(\"B is greater than A and C\")\n",
    "else:\n",
    "    print(\"C is greater than A and B\")\n"
   ]
  },
  {
   "cell_type": "code",
   "execution_count": 8,
   "id": "3fff0679",
   "metadata": {},
   "outputs": [
    {
     "name": "stdout",
     "output_type": "stream",
     "text": [
      "Enter the value of A: 4\n",
      "Enter the value of B: 4\n",
      "Same Number\n"
     ]
    }
   ],
   "source": [
    "a = int(input(\"Enter the value of A: \"))\n",
    "b = int(input(\"Enter the value of B: \"))\n",
    "\n",
    "if(a>b):\n",
    "    print(\"A is greater than B\")\n",
    "elif(b>a):\n",
    "    print(\"B is greater than A\")\n",
    "else:\n",
    "    print(\"Same Number\")"
   ]
  },
  {
   "cell_type": "code",
   "execution_count": 9,
   "id": "94aef235",
   "metadata": {},
   "outputs": [
    {
     "name": "stdout",
     "output_type": "stream",
     "text": [
      "Enter your Grade: 65\n",
      "1st Class\n"
     ]
    }
   ],
   "source": [
    "percentage = float(input(\"Enter your Grade: \"))\n",
    "\n",
    "if(percentage>=70):\n",
    "    print(\"Dist\")\n",
    "    \n",
    "elif(65<=percentage<70):\n",
    "    print(\"1st Class\")\n",
    "\n",
    "elif(60<=percentage<65):\n",
    "    print(\"2nd Class\")\n",
    "\n",
    "elif(55<=percentage<60):\n",
    "    print(\"3rd Class\")\n",
    "\n",
    "else:\n",
    "    print(\"Fail\")\n",
    "\n"
   ]
  },
  {
   "cell_type": "markdown",
   "id": "71650b32",
   "metadata": {},
   "source": [
    "# Nested if"
   ]
  },
  {
   "cell_type": "code",
   "execution_count": 10,
   "id": "61023ed0",
   "metadata": {},
   "outputs": [
    {
     "name": "stdout",
     "output_type": "stream",
     "text": [
      "Enter Your Age: 21\n",
      "Enter Your Weight: 55\n",
      "You Can Donate Blood\n"
     ]
    }
   ],
   "source": [
    "age = int(input(\"Enter Your Age: \"))\n",
    "if (age>18):\n",
    "        weight = float(input(\"Enter Your Weight: \"))\n",
    "        if(weight>=50):\n",
    "            print(\"You Can Donate Blood\")\n",
    "        else:\n",
    "            print(\"Under Weight\")\n",
    "else:\n",
    "    print(\"Under Age\")"
   ]
  }
 ],
 "metadata": {
  "kernelspec": {
   "display_name": "Python 3 (ipykernel)",
   "language": "python",
   "name": "python3"
  },
  "language_info": {
   "codemirror_mode": {
    "name": "ipython",
    "version": 3
   },
   "file_extension": ".py",
   "mimetype": "text/x-python",
   "name": "python",
   "nbconvert_exporter": "python",
   "pygments_lexer": "ipython3",
   "version": "3.11.3"
  }
 },
 "nbformat": 4,
 "nbformat_minor": 5
}
