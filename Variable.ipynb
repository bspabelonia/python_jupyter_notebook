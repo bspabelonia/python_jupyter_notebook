{
 "cells": [
  {
   "cell_type": "code",
   "execution_count": 3,
   "id": "c9a9c9df",
   "metadata": {},
   "outputs": [
    {
     "name": "stdout",
     "output_type": "stream",
     "text": [
      "10\n",
      "<class 'int'>\n"
     ]
    }
   ],
   "source": [
    "a = 10 #Static Coding\n",
    "print(a)\n",
    "print(type(a))"
   ]
  },
  {
   "cell_type": "code",
   "execution_count": 4,
   "id": "450991f1",
   "metadata": {},
   "outputs": [
    {
     "name": "stdout",
     "output_type": "stream",
     "text": [
      "Benny\n",
      "<class 'str'>\n"
     ]
    }
   ],
   "source": [
    "b = \"Benny\"\n",
    "print(b)\n",
    "print(type(b))"
   ]
  },
  {
   "cell_type": "code",
   "execution_count": 5,
   "id": "c6f1d28b",
   "metadata": {},
   "outputs": [],
   "source": [
    "# Run code == Ctrl+Enter\n",
    "# New Cell == Alt+Enter"
   ]
  },
  {
   "cell_type": "markdown",
   "id": "7d523174",
   "metadata": {},
   "source": [
    "# Input from user"
   ]
  },
  {
   "cell_type": "code",
   "execution_count": 6,
   "id": "7fb62e14",
   "metadata": {},
   "outputs": [
    {
     "name": "stdout",
     "output_type": "stream",
     "text": [
      "Enter your name: Benny\n",
      "Benny\n",
      "<class 'str'>\n"
     ]
    }
   ],
   "source": [
    "name = input(\"Enter your name: \")\n",
    "print(name)\n",
    "print(type(name))"
   ]
  },
  {
   "cell_type": "code",
   "execution_count": 7,
   "id": "d1332161",
   "metadata": {},
   "outputs": [
    {
     "name": "stdout",
     "output_type": "stream",
     "text": [
      "Value 1: 10\n",
      "Value 2: 10\n",
      "20\n"
     ]
    }
   ],
   "source": [
    "value1 = int(input(\"Value 1: \"))\n",
    "value2 = int(input(\"Value 2: \"))\n",
    "result = value1 + value2\n",
    "print(result)"
   ]
  },
  {
   "cell_type": "code",
   "execution_count": 8,
   "id": "8362432d",
   "metadata": {},
   "outputs": [
    {
     "name": "stdout",
     "output_type": "stream",
     "text": [
      "Value 1: 20\n",
      "Value 2: 10\n",
      "10\n"
     ]
    }
   ],
   "source": [
    "value1 = int(input(\"Value 1: \"))\n",
    "value2 = int(input(\"Value 2: \"))\n",
    "result = value1 - value2\n",
    "print(result)"
   ]
  },
  {
   "cell_type": "code",
   "execution_count": 9,
   "id": "c0a94eac",
   "metadata": {},
   "outputs": [
    {
     "name": "stdout",
     "output_type": "stream",
     "text": [
      "Value 1: 10\n",
      "Value 2: 10\n",
      "100\n"
     ]
    }
   ],
   "source": [
    "value1 = int(input(\"Value 1: \"))\n",
    "value2 = int(input(\"Value 2: \"))\n",
    "result = value1 * value2\n",
    "print(result)"
   ]
  },
  {
   "cell_type": "code",
   "execution_count": 10,
   "id": "b015bca1",
   "metadata": {},
   "outputs": [
    {
     "name": "stdout",
     "output_type": "stream",
     "text": [
      "Value 1: 25\n",
      "Value 2: 5\n",
      "5.0\n",
      "<class 'float'>\n"
     ]
    }
   ],
   "source": [
    "value1 = int(input(\"Value 1: \"))\n",
    "value2 = int(input(\"Value 2: \"))\n",
    "\n",
    "if(value2==0):\n",
    "    print(\"division by zero\")\n",
    "else:\n",
    "    result = value1 / value2\n",
    "    print(result)\n",
    "    print(type(result))"
   ]
  }
 ],
 "metadata": {
  "kernelspec": {
   "display_name": "Python 3 (ipykernel)",
   "language": "python",
   "name": "python3"
  },
  "language_info": {
   "codemirror_mode": {
    "name": "ipython",
    "version": 3
   },
   "file_extension": ".py",
   "mimetype": "text/x-python",
   "name": "python",
   "nbconvert_exporter": "python",
   "pygments_lexer": "ipython3",
   "version": "3.11.3"
  }
 },
 "nbformat": 4,
 "nbformat_minor": 5
}
