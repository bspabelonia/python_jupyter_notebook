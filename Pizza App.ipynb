{
 "cells": [
  {
   "cell_type": "markdown",
   "id": "2ec6f013",
   "metadata": {},
   "source": [
    "# Pizza App"
   ]
  },
  {
   "cell_type": "code",
   "execution_count": 47,
   "id": "961756f4",
   "metadata": {},
   "outputs": [
    {
     "name": "stdout",
     "output_type": "stream",
     "text": [
      "Are you driving a 4 wheeler vehicle? Answer yes/no: yes\n",
      "What size do you want to order: small, medium, large or monster? : medium\n",
      "How many? 3\n",
      "You got a free 1L coke!\n"
     ]
    }
   ],
   "source": [
    "\n",
    "vehicle=input(\"Are you driving a 4 wheeler vehicle? Answer yes/no: \")\n",
    "\n",
    "if(vehicle==\"yes\"):\n",
    "    size = input(\"What size do you want to order: small, medium, large or monster? : \")\n",
    "    if(size == \"small\" or size ==\"medium\" or size ==\"large\" or size ==\"monster\"):\n",
    "        qty = int(input(\"How many? \"))\n",
    "    if(size == \"small\" and qty == 4):\n",
    "        print(\"You got a free 500ml coke!\")\n",
    "    elif(size == \"medium\" and qty == 3):\n",
    "        print(\"You got a free 1L coke!\")\n",
    "    elif(size == \"large\" and qty == 2):\n",
    "        print(\"You got a free ice cream with a brownie!\")\n",
    "    elif(size == \"monster\"):\n",
    "        print(\"You got a free 1 small pizza and 500ml coke!\")\n",
    "    else:\n",
    "        print(\"Thank you so much!\")\n",
    "else:\n",
    "    print('Sorry please come again!')\n",
    "             "
   ]
  },
  {
   "cell_type": "markdown",
   "id": "de906f7e",
   "metadata": {},
   "source": [
    "Pizza App\n",
    "\n",
    "Note -- User should have 4 wheeler then only user can buy\n",
    "\n",
    "Small -- Buy 4 small pizza offer is 500 ml coke free\n",
    "Medium -- Buy 3 medium pizza offer is 1ltr coke free\n",
    "Large -- Buy 2 large pizza offer is 1 ice-cream with browine free\n",
    "Monster -- Buy 1 monster pizza offer is 1 small pizza and 500 ml coke free\n",
    "\n",
    "\n",
    "User Input:\n",
    "\n",
    "Wheeler == Yes/No\n",
    "Size == String\n",
    "qty = int"
   ]
  },
  {
   "cell_type": "code",
   "execution_count": null,
   "id": "061d9c5a",
   "metadata": {},
   "outputs": [],
   "source": []
  }
 ],
 "metadata": {
  "kernelspec": {
   "display_name": "Python 3 (ipykernel)",
   "language": "python",
   "name": "python3"
  },
  "language_info": {
   "codemirror_mode": {
    "name": "ipython",
    "version": 3
   },
   "file_extension": ".py",
   "mimetype": "text/x-python",
   "name": "python",
   "nbconvert_exporter": "python",
   "pygments_lexer": "ipython3",
   "version": "3.11.3"
  }
 },
 "nbformat": 4,
 "nbformat_minor": 5
}
