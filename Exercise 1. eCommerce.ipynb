{
 "cells": [
  {
   "cell_type": "code",
   "execution_count": 1,
   "id": "d5522eed",
   "metadata": {},
   "outputs": [
    {
     "name": "stdout",
     "output_type": "stream",
     "text": [
      "['Mobiles', ['Samsung', 'OnePlus', 'iPhone', [14000, 20000, 40000]], 'Laptops', ['Dell', 'Hp', 'Acer', [25000, 35000, 45000]], 'Clothes', ['Men', 'Women', [50, 100]]]\n"
     ]
    }
   ],
   "source": [
    "eCommerce = [\n",
    "    \"Mobiles\", [\"Samsung\",\"OnePlus\",\"iPhone\",[14000,20000,40000]],\n",
    "    \"Laptops\",[\"Dell\",\"Hp\",\"Acer\",[25000,35000,45000]],\n",
    "    \"Clothes\",[\"Men\",\"Women\",[50,100]]\n",
    "]\n",
    "\n",
    "print(eCommerce)"
   ]
  },
  {
   "cell_type": "code",
   "execution_count": 2,
   "id": "927f0e5a",
   "metadata": {},
   "outputs": [],
   "source": [
    "# from mobile -- print samsung, mobile price - 20000,40000\n",
    "# from Laptop -- print hp,  price - 35000\n",
    "# from Clothes -- print Men and its quantity"
   ]
  },
  {
   "cell_type": "code",
   "execution_count": 3,
   "id": "a8ce002d",
   "metadata": {},
   "outputs": [
    {
     "name": "stdout",
     "output_type": "stream",
     "text": [
      "Samsung : Mobile Price : 20000 , 40000\n",
      "Hp : Price : 35000\n",
      "Men : Qty : 50\n"
     ]
    }
   ],
   "source": [
    "print(eCommerce[1][0],\": Mobile Price :\",eCommerce[1][3][1],\",\",eCommerce[1][3][2])\n",
    "print(eCommerce[3][1],\": Price :\",eCommerce[3][3][1])\n",
    "print(eCommerce[5][0],\": Qty :\",eCommerce[5][2][0])"
   ]
  },
  {
   "cell_type": "code",
   "execution_count": null,
   "id": "fcf8e88f",
   "metadata": {},
   "outputs": [],
   "source": []
  }
 ],
 "metadata": {
  "kernelspec": {
   "display_name": "Python 3 (ipykernel)",
   "language": "python",
   "name": "python3"
  },
  "language_info": {
   "codemirror_mode": {
    "name": "ipython",
    "version": 3
   },
   "file_extension": ".py",
   "mimetype": "text/x-python",
   "name": "python",
   "nbconvert_exporter": "python",
   "pygments_lexer": "ipython3",
   "version": "3.11.3"
  }
 },
 "nbformat": 4,
 "nbformat_minor": 5
}
