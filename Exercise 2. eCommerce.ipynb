{
 "cells": [
  {
   "cell_type": "code",
   "execution_count": 7,
   "id": "1644a7d2",
   "metadata": {},
   "outputs": [
    {
     "name": "stdout",
     "output_type": "stream",
     "text": [
      "{'Mobile': {'Samsung': 40000, 'iPhone': 58000, 'Xiaomi': 24000}, 'Men': {'Footwares': ['Shoes', 'Slippers', 'Crocs'], 'Clothes': ('T-Shirts', 'Shirts'), 'Watches': ['Watch1', 'Watch2', 'Watch3']}, 'Women': {'Footwares': ['Shoes', 'Slippers', 'Crocs'], 'Clothes': ('T-Shirts', 'Shirts'), 'Jewerly': ['J1', 'J2', 'J3', [70000, 80000, 90000]]}, 'Laptop': ['HP', 'Dell', 'Acer']}\n"
     ]
    }
   ],
   "source": [
    "# from mobile -- print samsung, mobile price - 20000,40000\n",
    "# from Laptop -- print hp,  price - 35000\n",
    "# from Clothes -- print Men and its quantity\n",
    "\n",
    "eCommerce = {\n",
    "    \"Mobile\" :{\"Samsung\":40000,\"iPhone\":58000,\"Xiaomi\":24000},\n",
    "    \"Men\":{\n",
    "        \"Footwares\":[\"Shoes\",\"Slippers\",\"Crocs\"],\n",
    "        \"Clothes\" :(\"T-Shirts\",\"Shirts\"),\n",
    "        \"Watches\"  :[\"Watch1\",\"Watch2\",\"Watch3\"]        \n",
    "    },\n",
    "    \"Women\":{\n",
    "        \"Footwares\":[\"Shoes\",\"Slippers\",\"Crocs\"],\n",
    "        \"Clothes\" :(\"T-Shirts\",\"Shirts\"),\n",
    "        \"Jewerly\"  :[\"J1\",\"J2\",\"J3\",[70000,80000,90000]]\n",
    "    },\n",
    "    \"Laptop\" :[\"HP\",\"Dell\",\"Acer\"],\n",
    "}\n",
    "print(eCommerce)"
   ]
  },
  {
   "cell_type": "code",
   "execution_count": 36,
   "id": "b47f6f70",
   "metadata": {},
   "outputs": [
    {
     "name": "stdout",
     "output_type": "stream",
     "text": [
      "All Mobile Phones with their Prices :\n",
      "    Samsung : 40000\n",
      "    iPhone : 58000\n",
      "    Xiaomi : 24000\n",
      "Men's Footware : Slippers\n",
      "\n",
      "Men's Clothes : Shirts\n",
      "\n",
      "Men's Watch : Watch2\n",
      "Women's Footware : Crocs\n",
      "Women's Clothes : T-Shirts\n",
      "Women's Jewerly : J1 : Prices : [70000, 80000, 90000]\n",
      "Laptop : Dell\n"
     ]
    }
   ],
   "source": [
    "# Mobile - All the Key and Values\n",
    "\n",
    "# Men - Footware (Slipper)\n",
    "# Men - Clothes (Shirts)\n",
    "# Men - Watches (Watch2)\n",
    "\n",
    "# Women - Footware (Crocs)\n",
    "# Women - Clothes (T-Shirts)\n",
    "# Wome - Jewerly (J1), All Prices\n",
    "\n",
    "# Laptop -- Dell\n",
    "\n",
    "print(\"All Mobile Phones with their Prices :\")\n",
    "for x, y in eCommerce[\"Mobile\"].items():\n",
    "    print(\"   \",x,\":\",y)\n",
    "print(\"Men's Footware :\",eCommerce[\"Men\"][\"Footwares\"][1])\n",
    "print(\"Men's Clothes :\",eCommerce[\"Men\"][\"Clothes\"][1])\n",
    "print(\"Men's Watch :\",eCommerce[\"Men\"][\"Watches\"][1])\n",
    "print(\"Women's Footware :\",eCommerce[\"Women\"][\"Footwares\"][2])\n",
    "print(\"Women's Clothes :\",eCommerce[\"Women\"][\"Clothes\"][0])\n",
    "print(\"Women's Jewerly :\",eCommerce[\"Women\"][\"Jewerly\"][0],\": Prices :\",eCommerce[\"Women\"][\"Jewerly\"][3][0:3])\n",
    "print(\"Laptop :\",eCommerce[\"Laptop\"][1])"
   ]
  },
  {
   "cell_type": "code",
   "execution_count": null,
   "id": "ed2e56a4",
   "metadata": {},
   "outputs": [],
   "source": []
  }
 ],
 "metadata": {
  "kernelspec": {
   "display_name": "Python 3 (ipykernel)",
   "language": "python",
   "name": "python3"
  },
  "language_info": {
   "codemirror_mode": {
    "name": "ipython",
    "version": 3
   },
   "file_extension": ".py",
   "mimetype": "text/x-python",
   "name": "python",
   "nbconvert_exporter": "python",
   "pygments_lexer": "ipython3",
   "version": "3.11.3"
  }
 },
 "nbformat": 4,
 "nbformat_minor": 5
}
