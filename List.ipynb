{
 "cells": [
  {
   "cell_type": "markdown",
   "id": "2a43f60e",
   "metadata": {},
   "source": [
    "# How to Create List?"
   ]
  },
  {
   "cell_type": "code",
   "execution_count": 2,
   "id": "41abc467",
   "metadata": {},
   "outputs": [
    {
     "name": "stdout",
     "output_type": "stream",
     "text": [
      "[1, 2, 3, 4, 5, 10.5, 11.5, 12.5, 13.5, 'A', 'B', 'C', 'D', 'Marilag', 'Vanessa', 'Lino', 'Benny']\n",
      "<class 'list'>\n"
     ]
    }
   ],
   "source": [
    "l1 = [1,2,3,4,5,10.5,11.5,12.5,13.5,'A','B','C','D',\"Marilag\",\"Vanessa\",\"Lino\",\"Benny\"]\n",
    "print(l1)\n",
    "print(type(l1))"
   ]
  },
  {
   "cell_type": "markdown",
   "id": "e3157e3f",
   "metadata": {},
   "source": [
    "# List Slicing"
   ]
  },
  {
   "cell_type": "code",
   "execution_count": 3,
   "id": "36d95f17",
   "metadata": {},
   "outputs": [
    {
     "name": "stdout",
     "output_type": "stream",
     "text": [
      "Current List : [1, 2, 3, 4, 5, 10.5, 11.5, 12.5, 13.5, 'A', 'B', 'C', 'D', 'Marilag', 'Vanessa', 'Lino', 'Benny']\n",
      "Size:  17\n",
      "*****Print a value between 1 to 10*****\n",
      "[2, 3, 4, 5, 10.5, 11.5, 12.5, 13.5, 'A']\n",
      "*****Print all the value after index 2*****\n",
      "[3, 4, 5, 10.5, 11.5, 12.5, 13.5, 'A', 'B', 'C', 'D', 'Marilag', 'Vanessa', 'Lino', 'Benny']\n",
      "*****Print alternate value between 1 to 10*****\n",
      "[1, 3, 5, 11.5, 13.5, 'B', 'D', 'Vanessa', 'Benny']\n",
      "*****Print value on index 8*****\n",
      "13.5\n",
      "*****Print last value of your list*****\n",
      "Benny\n"
     ]
    }
   ],
   "source": [
    "print(\"Current List :\", l1)\n",
    "print(\"Size: \",len(l1))\n",
    "\n",
    "print(\"*****Print a value between 1 to 10*****\")\n",
    "print(l1[1:10])\n",
    "\n",
    "print(\"*****Print all the value after index 2*****\")\n",
    "print(l1[2::])\n",
    "\n",
    "print(\"*****Print alternate value between 1 to 10*****\")\n",
    "print(l1[0::2])\n",
    "\n",
    "print(\"*****Print value on index 8*****\")\n",
    "print(l1[8])\n",
    "\n",
    "print(\"*****Print last value of your list*****\")\n",
    "print(l1[-1])"
   ]
  },
  {
   "cell_type": "markdown",
   "id": "aca813dc",
   "metadata": {},
   "source": [
    "# List Method"
   ]
  },
  {
   "cell_type": "code",
   "execution_count": 4,
   "id": "8c56f8df",
   "metadata": {},
   "outputs": [
    {
     "name": "stdout",
     "output_type": "stream",
     "text": [
      "Curret List:  [1, 2, 3, 4, 5, 10.5, 11.5, 12.5, 13.5, 'A', 'B', 'C', 'D', 'Marilag', 'Vanessa', 'Lino', 'Benny']\n",
      "Update List [1, 2, 3, 4, 5, 'Joseph', 10.5, 11.5, 12.5, 13.5, 'A', 'B', 'C', 'D', 'Marilag', 'Vanessa', 'Lino', 'Benny']\n"
     ]
    }
   ],
   "source": [
    "print(\"Curret List: \",l1)\n",
    "l1.insert(5,\"Joseph\")\n",
    "print(\"Update List\", l1)"
   ]
  },
  {
   "cell_type": "code",
   "execution_count": 5,
   "id": "dfec3805",
   "metadata": {},
   "outputs": [
    {
     "name": "stdout",
     "output_type": "stream",
     "text": [
      "Current List:  [1, 2, 3, 4, 5, 'Joseph', 10.5, 11.5, 12.5, 13.5, 'A', 'B', 'C', 'D', 'Marilag', 'Vanessa', 'Lino', 'Benny']\n",
      "Size:  18\n",
      "Update List:  [1, 2, 3, 4, 5, 'Joseph', 10.5, 11.5, 'Sunit', 13.5, 'A', 'B', 'C', 'D', 'Marilag', 'Vanessa', 'Lino', 'Benny']\n"
     ]
    }
   ],
   "source": [
    "print(\"Current List: \",l1)\n",
    "print(\"Size: \",len(l1))\n",
    "l1[8] = \"Sunit\"\n",
    "print(\"Update List: \",l1)"
   ]
  },
  {
   "cell_type": "code",
   "execution_count": 6,
   "id": "b5cbcd59",
   "metadata": {},
   "outputs": [
    {
     "name": "stdout",
     "output_type": "stream",
     "text": [
      "Current List:  [1, 2, 3, 4, 5, 'Joseph', 10.5, 11.5, 'Sunit', 13.5, 'A', 'B', 'C', 'D', 'Marilag', 'Vanessa', 'Lino', 'Benny']\n",
      "Update List:  [1, 2, 3, 4, 5, 'Joseph', 10.5, 11.5, 'Sunit', 13.5, 'A', 'B', 'C', 'D', 'Marilag', 'Vanessa', 'Lino', 'Benny', 'Mango']\n",
      "Size:  19\n"
     ]
    }
   ],
   "source": [
    "print(\"Current List: \", l1)\n",
    "l1.append(\"Mango\")\n",
    "print(\"Update List: \",l1)\n",
    "print(\"Size: \",len(l1))"
   ]
  },
  {
   "cell_type": "markdown",
   "id": "fa5a2c6c",
   "metadata": {},
   "source": [
    "# Remove Method\n"
   ]
  },
  {
   "cell_type": "code",
   "execution_count": 7,
   "id": "439d3c1d",
   "metadata": {},
   "outputs": [
    {
     "name": "stdout",
     "output_type": "stream",
     "text": [
      "Current List:  [1, 2, 3, 4, 5, 'Joseph', 10.5, 11.5, 'Sunit', 13.5, 'A', 'B', 'C', 'D', 'Marilag', 'Vanessa', 'Lino', 'Benny', 'Mango']\n",
      "Size:  19\n",
      "Update List:  [1, 3, 4, 5, 'Joseph', 10.5, 11.5, 'Sunit', 13.5, 'A', 'B', 'C', 'D', 'Marilag', 'Vanessa', 'Lino', 'Benny', 'Mango']\n",
      "Size:  18\n"
     ]
    }
   ],
   "source": [
    "print(\"Current List: \", l1)\n",
    "print(\"Size: \",len(l1))\n",
    "\n",
    "l1.remove(2)\n",
    "print(\"Update List: \",l1)\n",
    "print(\"Size: \",len(l1))"
   ]
  },
  {
   "cell_type": "code",
   "execution_count": 8,
   "id": "1b479feb",
   "metadata": {},
   "outputs": [
    {
     "name": "stdout",
     "output_type": "stream",
     "text": [
      "Current List:  [1, 3, 4, 5, 'Joseph', 10.5, 11.5, 'Sunit', 13.5, 'A', 'B', 'C', 'D', 'Marilag', 'Vanessa', 'Lino', 'Benny', 'Mango']\n",
      "Size:  18\n",
      "Update List:  [1, 3, 4, 5, 'Joseph', 10.5, 11.5, 'Sunit', 13.5, 'A', 'B', 'C', 'D', 'Marilag', 'Vanessa', 'Lino', 'Benny']\n",
      "Size:  17\n"
     ]
    }
   ],
   "source": [
    "print(\"Current List: \", l1)\n",
    "print(\"Size: \",len(l1))\n",
    "\n",
    "l1.pop()\n",
    "print(\"Update List: \",l1)\n",
    "print(\"Size: \",len(l1))"
   ]
  },
  {
   "cell_type": "code",
   "execution_count": 9,
   "id": "951b412a",
   "metadata": {},
   "outputs": [
    {
     "name": "stdout",
     "output_type": "stream",
     "text": [
      "Current List:  [1, 3, 4, 5, 'Joseph', 10.5, 11.5, 'Sunit', 13.5, 'A', 'B', 'C', 'D', 'Marilag', 'Vanessa', 'Lino', 'Benny']\n",
      "Size:  17\n",
      "Update List:  [1, 3, 4, 5, 'Joseph', 11.5, 'Sunit', 13.5, 'A', 'B', 'C', 'D', 'Marilag', 'Vanessa', 'Lino', 'Benny']\n",
      "Size:  16\n"
     ]
    }
   ],
   "source": [
    "print(\"Current List: \", l1)\n",
    "print(\"Size: \",len(l1))\n",
    "\n",
    "del l1[5]\n",
    "print(\"Update List: \",l1)\n",
    "print(\"Size: \",len(l1))"
   ]
  },
  {
   "cell_type": "code",
   "execution_count": 10,
   "id": "fe33117f",
   "metadata": {},
   "outputs": [
    {
     "name": "stdout",
     "output_type": "stream",
     "text": [
      "Current List:  [1, 3, 4, 5, 'Joseph', 11.5, 'Sunit', 13.5, 'A', 'B', 'C', 'D', 'Marilag', 'Vanessa', 'Lino', 'Benny']\n",
      "Size:  16\n",
      "Update List:  []\n",
      "Size:  0\n"
     ]
    }
   ],
   "source": [
    "print(\"Current List: \", l1)\n",
    "print(\"Size: \",len(l1))\n",
    "\n",
    "l1.clear()\n",
    "print(\"Update List: \",l1)\n",
    "print(\"Size: \",len(l1))"
   ]
  },
  {
   "cell_type": "markdown",
   "id": "d21472e4",
   "metadata": {},
   "source": [
    "# Nested List\n"
   ]
  },
  {
   "cell_type": "code",
   "execution_count": 11,
   "id": "827135c2",
   "metadata": {},
   "outputs": [
    {
     "name": "stdout",
     "output_type": "stream",
     "text": [
      "['Mobiles', ['Samsung', 'OnePlus', 'iPhone', [14000, 20000, 40000]], 'Laptops', ['Dell', 'Hp', 'Acer', [25000, 35000, 45000]], 'Clothes', ['Men', 'Women', [50, 100]]]\n"
     ]
    }
   ],
   "source": [
    "eCommerce = [\n",
    "    \"Mobiles\", [\"Samsung\",\"OnePlus\",\"iPhone\",[14000,20000,40000]],\n",
    "    \"Laptops\",[\"Dell\",\"Hp\",\"Acer\",[25000,35000,45000]],\n",
    "    \"Clothes\",[\"Men\",\"Women\",[50,100]]\n",
    "]\n",
    "\n",
    "print(eCommerce)"
   ]
  },
  {
   "cell_type": "code",
   "execution_count": 12,
   "id": "609b7d79",
   "metadata": {},
   "outputs": [],
   "source": [
    "# from mobile -- print samsung, mobile price - 20000,40000\n",
    "# from Laptop -- print hp,  price - 35000\n",
    "# from Clothes -- print Men and its quantity"
   ]
  },
  {
   "cell_type": "code",
   "execution_count": 25,
   "id": "1dfac515",
   "metadata": {},
   "outputs": [
    {
     "name": "stdout",
     "output_type": "stream",
     "text": [
      "Samsung\n",
      "[20000, 40000]\n",
      "Hp\n",
      "35000\n",
      "Men\n",
      "50\n"
     ]
    }
   ],
   "source": [
    "print(eCommerce[1][0])\n",
    "print(eCommerce[1][3][1:3])\n",
    "\n",
    "print(eCommerce[3][1])\n",
    "print(eCommerce[3][3][1])\n",
    "\n",
    "print(eCommerce[5][0])\n",
    "print(eCommerce[5][2][0])"
   ]
  },
  {
   "cell_type": "code",
   "execution_count": 42,
   "id": "75a1d516",
   "metadata": {},
   "outputs": [
    {
     "name": "stdout",
     "output_type": "stream",
     "text": [
      "Samsung : Mobile Price : 20000 , 40000\n",
      "Hp : Price : 35000\n",
      "Men : Qty : 50\n"
     ]
    }
   ],
   "source": [
    "print(eCommerce[1][0],\": Mobile Price :\",eCommerce[1][3][1],\",\",eCommerce[1][3][2])\n",
    "print(eCommerce[3][1],\": Price :\",eCommerce[3][3][1])\n",
    "print(eCommerce[5][0],\": Qty :\",eCommerce[5][2][0])"
   ]
  },
  {
   "cell_type": "markdown",
   "id": "23d0fe28",
   "metadata": {},
   "source": [
    "# Student Application using List and List Methods"
   ]
  },
  {
   "cell_type": "code",
   "execution_count": null,
   "id": "b69a2ec5",
   "metadata": {},
   "outputs": [],
   "source": []
  },
  {
   "cell_type": "code",
   "execution_count": 14,
   "id": "3b4c46e6",
   "metadata": {},
   "outputs": [],
   "source": [
    "### If user press 1 -- User can insert a multiple value in list\n",
    "### If user press 2 -- user can update the list according to the index value\n",
    "### If user press 3 -- user can see all the value of the list\n",
    "### If user press 4 -- user can delete  or remove particular value from a list\n",
    "### If user press 5 -- user can delete all the values from the list\n",
    "### If user press 6 -- Say Thank you Goodbye!\n",
    "\n"
   ]
  },
  {
   "cell_type": "code",
   "execution_count": null,
   "id": "a2b6fa21",
   "metadata": {},
   "outputs": [],
   "source": []
  }
 ],
 "metadata": {
  "kernelspec": {
   "display_name": "Python 3 (ipykernel)",
   "language": "python",
   "name": "python3"
  },
  "language_info": {
   "codemirror_mode": {
    "name": "ipython",
    "version": 3
   },
   "file_extension": ".py",
   "mimetype": "text/x-python",
   "name": "python",
   "nbconvert_exporter": "python",
   "pygments_lexer": "ipython3",
   "version": "3.11.3"
  }
 },
 "nbformat": 4,
 "nbformat_minor": 5
}
