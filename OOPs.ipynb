{
 "cells": [
  {
   "cell_type": "code",
   "execution_count": 2,
   "id": "d63cc5c1",
   "metadata": {},
   "outputs": [],
   "source": [
    "# OOPS\n",
    "\n",
    "# O = Object\n",
    "# O = Oriented\n",
    "# P = Programming\n",
    "# S = Structure\n",
    "\n",
    "\n",
    "# OOPs Concepts:\n",
    "\n",
    "#     1. Class\n",
    "#     2. Object\n",
    "#     3. Inheritance\n",
    "#     4. Polymorphism\n",
    "#     5. Abstraction\n",
    "#     6. Encapsulation"
   ]
  },
  {
   "cell_type": "code",
   "execution_count": 5,
   "id": "947bf175",
   "metadata": {},
   "outputs": [
    {
     "name": "stdout",
     "output_type": "stream",
     "text": [
      "10\n"
     ]
    }
   ],
   "source": [
    "a = 10\n",
    "print(a)"
   ]
  },
  {
   "cell_type": "markdown",
   "id": "d052d422",
   "metadata": {},
   "source": [
    "# Creating a Class"
   ]
  },
  {
   "cell_type": "code",
   "execution_count": 8,
   "id": "ea00f95d",
   "metadata": {},
   "outputs": [
    {
     "name": "stdout",
     "output_type": "stream",
     "text": [
      "10\n"
     ]
    }
   ],
   "source": [
    "class Class1:\n",
    "        a = 10 #property of a class\n",
    "        \n",
    "print(a)"
   ]
  },
  {
   "cell_type": "code",
   "execution_count": 31,
   "id": "6e79acaf",
   "metadata": {},
   "outputs": [
    {
     "name": "stdout",
     "output_type": "stream",
     "text": [
      "Hello\n",
      "20\n"
     ]
    },
    {
     "data": {
      "text/plain": [
       "20"
      ]
     },
     "execution_count": 31,
     "metadata": {},
     "output_type": "execute_result"
    }
   ],
   "source": [
    "class Class2:\n",
    "    def function1(self):\n",
    "        print(\"Hello\")\n",
    "        \n",
    "    b = 20\n",
    "        \n",
    "# creating object\n",
    "obj = Class2()\n",
    "obj.function1()\n",
    "print(obj.b)\n",
    "obj.b"
   ]
  },
  {
   "cell_type": "markdown",
   "id": "e0791ac5",
   "metadata": {},
   "source": [
    "# Constructor"
   ]
  },
  {
   "cell_type": "code",
   "execution_count": 50,
   "id": "6fb2e19f",
   "metadata": {},
   "outputs": [
    {
     "name": "stdout",
     "output_type": "stream",
     "text": [
      "Parameterized Constructor\n"
     ]
    }
   ],
   "source": [
    "class Class3:\n",
    "    def __init__(self):\n",
    "        print(\"Constructor\")\n",
    "        \n",
    "    def __init__(self,a):\n",
    "        print(\"Parameterized Constructor\")\n",
    "        \n",
    "ojb1 = Class3('a')"
   ]
  },
  {
   "cell_type": "code",
   "execution_count": 51,
   "id": "7c0f792d",
   "metadata": {},
   "outputs": [],
   "source": [
    "# Create one class\n",
    "# inside class\n",
    "# 1. parameterized constructor\n",
    "# 2. without args function\n",
    "# 3. with args function\n",
    "# 4. one variable \n",
    "\n",
    "# Call all the properties by using object"
   ]
  },
  {
   "cell_type": "code",
   "execution_count": 97,
   "id": "4beaa653",
   "metadata": {},
   "outputs": [
    {
     "name": "stdout",
     "output_type": "stream",
     "text": [
      "Parameterized Constructor\n",
      "Hello\n",
      "6\n",
      "12\n"
     ]
    }
   ],
   "source": [
    "class Class4:\n",
    "    def __init__(self,e):\n",
    "        print(\"Parameterized Constructor\") # 1. parameterized constructor\n",
    "       \n",
    "    def printHello(self): # 2. without args function\n",
    "        print(\"Hello\") \n",
    "\n",
    "    def add(self,a,b): # 3. with args function\n",
    "        c=a+b\n",
    "        print(c)\n",
    "        \n",
    "    d = 12 # 4. one variable \n",
    "    \n",
    "obj2 = Class4('e')\n",
    "obj2.printHello()\n",
    "obj2.add(5,1)\n",
    "print(obj2.d)\n",
    "\n"
   ]
  },
  {
   "cell_type": "code",
   "execution_count": null,
   "id": "d53f3a11",
   "metadata": {},
   "outputs": [],
   "source": []
  }
 ],
 "metadata": {
  "kernelspec": {
   "display_name": "Python 3 (ipykernel)",
   "language": "python",
   "name": "python3"
  },
  "language_info": {
   "codemirror_mode": {
    "name": "ipython",
    "version": 3
   },
   "file_extension": ".py",
   "mimetype": "text/x-python",
   "name": "python",
   "nbconvert_exporter": "python",
   "pygments_lexer": "ipython3",
   "version": "3.11.3"
  }
 },
 "nbformat": 4,
 "nbformat_minor": 5
}
