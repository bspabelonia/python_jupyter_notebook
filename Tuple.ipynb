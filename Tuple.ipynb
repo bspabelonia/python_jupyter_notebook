{
 "cells": [
  {
   "cell_type": "code",
   "execution_count": null,
   "id": "04f9be4d",
   "metadata": {},
   "outputs": [],
   "source": [
    "# Tuple:\n",
    "\n",
    "# ->Tuple is a collection of different datatype value\n",
    "# ->Tuple works on index value\n",
    "# ->Tuple is represent by ()\n",
    "# ->Tuple is immutable (not changable)"
   ]
  },
  {
   "cell_type": "markdown",
   "id": "2cdc7563",
   "metadata": {},
   "source": [
    "# How to create a Tuple?"
   ]
  },
  {
   "cell_type": "code",
   "execution_count": 1,
   "id": "bff7a0db",
   "metadata": {},
   "outputs": [
    {
     "name": "stdout",
     "output_type": "stream",
     "text": [
      "(1, 2, 3, 4, 5, 'Apple', 'Kiwi', 'Orange', 'A', 'B', 'C', 'D', 10.5, 11.5, 12.5)\n",
      "<class 'tuple'>\n"
     ]
    }
   ],
   "source": [
    "t1 = (1,2,3,4,5,\"Apple\",\"Kiwi\",\"Orange\",'A','B','C','D',10.5,11.5,12.5)\n",
    "print(t1)\n",
    "print(type(t1))"
   ]
  },
  {
   "cell_type": "markdown",
   "id": "11c8a1ff",
   "metadata": {},
   "source": [
    "# Tuple Slicing"
   ]
  },
  {
   "cell_type": "code",
   "execution_count": 15,
   "id": "8604f303",
   "metadata": {},
   "outputs": [
    {
     "name": "stdout",
     "output_type": "stream",
     "text": [
      "Print value after index 1\n",
      "2\n",
      "Print value between index 1 to 6\n",
      "(2, 3, 4, 5)\n",
      "Print alternate value between index 1 to 8\n",
      "(2, 4, 'Apple')\n",
      "Print last value of the tuple\n",
      "12.5\n",
      "Print 6th index value of tuple\n",
      "Apple\n"
     ]
    }
   ],
   "source": [
    "print(\"Print value after index 1\")\n",
    "print(t1[1])\n",
    "\n",
    "print(\"Print value between index 1 to 6\")\n",
    "print(t1[1:5])\n",
    "\n",
    "print(\"Print alternate value between index 1 to 8\")\n",
    "print(t1[1:7:2])\n",
    "\n",
    "print(\"Print last value of the tuple\")\n",
    "print(t1[-1])\n",
    "\n",
    "print(\"Print 6th index value of tuple\")\n",
    "print(t1[5])"
   ]
  },
  {
   "cell_type": "markdown",
   "id": "74607ea6",
   "metadata": {},
   "source": [
    "# How to convert tuple into List"
   ]
  },
  {
   "cell_type": "code",
   "execution_count": 19,
   "id": "fd0cdf23",
   "metadata": {},
   "outputs": [
    {
     "name": "stdout",
     "output_type": "stream",
     "text": [
      "Current Tuple :  (1, 2, 3, 4, 5, 'Apple', 'Kiwi', 'Orange', 'A', 'B', 'C', 'D', 10.5, 11.5, 12.5)\n",
      "<class 'tuple'>\n",
      "Updated Tuple :  [1, 2, 3, 4, 5, 'Apple', 'Kiwi', 'Orange', 'A', 'B', 'C', 'D', 10.5, 11.5, 12.5]\n",
      "<class 'list'>\n",
      "Updated Tuple :  (1, 2, 3, 4, 5, 'Apple', 'Kiwi', 'Orange', 'A', 'B', 'C', 'D', 10.5, 11.5, 12.5)\n",
      "<class 'tuple'>\n"
     ]
    }
   ],
   "source": [
    "print(\"Current Tuple : \",t1)\n",
    "print(type(t1))\n",
    "\n",
    "l1 = list(t1)\n",
    "print(\"Updated Tuple : \",l1)\n",
    "print(type(l1))\n",
    "\n",
    "t2 = tuple(l1)\n",
    "print(\"Updated Tuple : \",t2)\n",
    "print(type(t2))\n"
   ]
  },
  {
   "cell_type": "markdown",
   "id": "f0080fb6",
   "metadata": {},
   "source": [
    "# Tuple with For Loop"
   ]
  },
  {
   "cell_type": "code",
   "execution_count": 25,
   "id": "d7c2c94f",
   "metadata": {},
   "outputs": [
    {
     "name": "stdout",
     "output_type": "stream",
     "text": [
      "Current Tuple :  (1, 2, 3, 4, 5, 'Apple', 'Kiwi', 'Orange', 'A', 'B', 'C', 'D', 10.5, 11.5, 12.5)\n",
      "1\n",
      "2\n",
      "3\n",
      "4\n",
      "5\n",
      "Apple\n",
      "Kiwi\n",
      "Orange\n",
      "A\n",
      "B\n",
      "C\n",
      "D\n",
      "10.5\n",
      "11.5\n",
      "12.5\n"
     ]
    }
   ],
   "source": [
    "print (\"Current Tuple : \",t1)\n",
    "for i in t1:\n",
    "    print(i)\n",
    "    "
   ]
  },
  {
   "cell_type": "code",
   "execution_count": 26,
   "id": "596c986c",
   "metadata": {},
   "outputs": [
    {
     "name": "stdout",
     "output_type": "stream",
     "text": [
      "1\n",
      "2\n",
      "3\n",
      "4\n",
      "5\n",
      "Apple\n",
      "Kiwi\n",
      "Orange\n",
      "A\n",
      "B\n",
      "C\n",
      "D\n",
      "10.5\n",
      "11.5\n",
      "12.5\n"
     ]
    }
   ],
   "source": [
    "for i in range(len(t1)):\n",
    "    print(t1[i])"
   ]
  },
  {
   "cell_type": "code",
   "execution_count": null,
   "id": "43a34051",
   "metadata": {},
   "outputs": [],
   "source": []
  }
 ],
 "metadata": {
  "kernelspec": {
   "display_name": "Python 3 (ipykernel)",
   "language": "python",
   "name": "python3"
  },
  "language_info": {
   "codemirror_mode": {
    "name": "ipython",
    "version": 3
   },
   "file_extension": ".py",
   "mimetype": "text/x-python",
   "name": "python",
   "nbconvert_exporter": "python",
   "pygments_lexer": "ipython3",
   "version": "3.11.3"
  }
 },
 "nbformat": 4,
 "nbformat_minor": 5
}
